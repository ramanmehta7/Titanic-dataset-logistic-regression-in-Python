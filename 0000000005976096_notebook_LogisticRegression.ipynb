{
 "cells": [
  {
   "cell_type": "code",
   "execution_count": 4,
   "metadata": {},
   "outputs": [],
   "source": [
    "from sklearn import datasets\n",
    "from sklearn.linear_model import LogisticRegression\n",
    "import numpy as np"
   ]
  },
  {
   "cell_type": "code",
   "execution_count": 49,
   "metadata": {},
   "outputs": [
    {
     "data": {
      "text/plain": [
       "(668, 6)"
      ]
     },
     "execution_count": 49,
     "metadata": {},
     "output_type": "execute_result"
    }
   ],
   "source": [
    "data=np.genfromtxt(r\"C:\\Users\\MAYANK KUMAR\\Desktop\\training_titanic_x_y_train.csv\",delimiter=\",\",skip_header =1,usecols=(0,4,5,6,8,11))\n",
    "#y_train=np.genfromtxt(r\"C:\\Users\\MAYANK KUMAR\\Desktop\\training_titanic_x_y_train.csv\",delimiter=\",\",skip_header =1,usecols=(10)\n",
    "\n",
    "data\n",
    "col_mean = np.nanmean(data, axis=0)\n",
    "col_mean\n",
    "inds = np.where(np.isnan(data))\n",
    "data[inds] = np.take(col_mean, inds[1])\n",
    "data.shape\n"
   ]
  },
  {
   "cell_type": "code",
   "execution_count": 52,
   "metadata": {},
   "outputs": [
    {
     "name": "stdout",
     "output_type": "stream",
     "text": [
      "[[ 2.        29.         1.         0.        26.       ]\n",
      " [ 3.        29.7005597  0.         0.         8.05     ]\n",
      " [ 2.        39.         0.         0.        26.       ]\n",
      " ...\n",
      " [ 3.        32.         0.         0.        56.4958   ]\n",
      " [ 3.        22.         0.         0.         9.8375   ]\n",
      " [ 3.        29.7005597  1.         0.        15.5      ]]\n"
     ]
    },
    {
     "data": {
      "text/plain": [
       "(668, 1)"
      ]
     },
     "execution_count": 52,
     "metadata": {},
     "output_type": "execute_result"
    }
   ],
   "source": [
    "x_train=np.ndarray(shape=(668,5))\n",
    "y_train=np.ndarray(shape=(668,1))\n",
    "for i in range(668):\n",
    "    for j in range(5):\n",
    "        x_train[i][j]=data[i][j]\n",
    "for i in range(668):\n",
    "    for j in range(1):\n",
    "        y_train[i][j]=data[i][j+5]\n",
    "        \n",
    "print(x_train)        \n",
    "y_train.shape"
   ]
  },
  {
   "cell_type": "code",
   "execution_count": 63,
   "metadata": {
    "scrolled": true
   },
   "outputs": [
    {
     "name": "stderr",
     "output_type": "stream",
     "text": [
      "C:\\abhishek\\lib\\site-packages\\sklearn\\utils\\validation.py:761: DataConversionWarning: A column-vector y was passed when a 1d array was expected. Please change the shape of y to (n_samples, ), for example using ravel().\n",
      "  y = column_or_1d(y, warn=True)\n"
     ]
    },
    {
     "data": {
      "text/plain": [
       "LogisticRegression(C=1.0, class_weight=None, dual=False, fit_intercept=True,\n",
       "          intercept_scaling=1, max_iter=100, multi_class='warn',\n",
       "          n_jobs=None, penalty='l2', random_state=None, solver='liblinear',\n",
       "          tol=0.0001, verbose=0, warm_start=False)"
      ]
     },
     "execution_count": 63,
     "metadata": {},
     "output_type": "execute_result"
    }
   ],
   "source": [
    "clf = LogisticRegression(solver=\"liblinear\" )\n",
    "clf.fit(x_train,y_train)"
   ]
  },
  {
   "cell_type": "code",
   "execution_count": 64,
   "metadata": {
    "scrolled": true
   },
   "outputs": [
    {
     "data": {
      "text/plain": [
       "0.7005988023952096"
      ]
     },
     "execution_count": 64,
     "metadata": {},
     "output_type": "execute_result"
    }
   ],
   "source": [
    "clf.score(x_train, y_train)"
   ]
  },
  {
   "cell_type": "code",
   "execution_count": 65,
   "metadata": {},
   "outputs": [
    {
     "data": {
      "text/plain": [
       "(223, 5)"
      ]
     },
     "execution_count": 65,
     "metadata": {},
     "output_type": "execute_result"
    }
   ],
   "source": [
    "x_test=np.genfromtxt(r\"C:\\Users\\MAYANK KUMAR\\Desktop\\test_titanic_x_test.csv\",delimiter=\",\",skip_header =1,usecols=(0,4,5,6,8))\n",
    "colmean = np.nanmean(x_test, axis=0)\n",
    "colmean\n",
    "inds = np.where(np.isnan(x_test))\n",
    "x_test[inds] = np.take(colmean, inds[1])\n",
    "x_test.shape\n"
   ]
  },
  {
   "cell_type": "code",
   "execution_count": 33,
   "metadata": {},
   "outputs": [],
   "source": [
    "#clf.predict_proba(cancer_ds.data)[13]"
   ]
  },
  {
   "cell_type": "code",
   "execution_count": 66,
   "metadata": {},
   "outputs": [],
   "source": [
    "y_pred=clf.predict(x_test) \n"
   ]
  },
  {
   "cell_type": "code",
   "execution_count": 67,
   "metadata": {},
   "outputs": [],
   "source": [
    "import pandas as pd\n",
    "\n",
    "pd.DataFrame(y_pred).to_csv(r\"C:\\Users\\MAYANK KUMAR\\desktop\\newOutputTitanic.csv\",index=False,header=False)"
   ]
  }
 ],
 "metadata": {
  "kernelspec": {
   "display_name": "Python 3",
   "language": "python",
   "name": "python3"
  },
  "language_info": {
   "codemirror_mode": {
    "name": "ipython",
    "version": 3
   },
   "file_extension": ".py",
   "mimetype": "text/x-python",
   "name": "python",
   "nbconvert_exporter": "python",
   "pygments_lexer": "ipython3",
   "version": "3.7.3"
  }
 },
 "nbformat": 4,
 "nbformat_minor": 2
}
